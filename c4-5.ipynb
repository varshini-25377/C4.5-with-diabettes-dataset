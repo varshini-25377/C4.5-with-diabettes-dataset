{
 "cells": [
  {
   "cell_type": "code",
   "execution_count": 14,
   "metadata": {
    "_cell_guid": "b1076dfc-b9ad-4769-8c92-a6c4dae69d19",
    "_uuid": "8f2839f25d086af736a60e9eeb907d3b93b6e0e5",
    "scrolled": false
   },
   "outputs": [],
   "source": [
    "\n",
    "\n",
    "import numpy as np \n",
    "import pandas as pd\n",
    "import matplotlib.pyplot as plt\n",
    "import sklearn\n",
    "from sklearn.model_selection import train_test_split\n",
    "from sklearn import tree\n",
    "from sklearn.metrics import confusion_matrix\n",
    "from sklearn.metrics import classification_report\n",
    "import hr\n",
    "\n"
   ]
  },
  {
   "cell_type": "code",
   "execution_count": 27,
   "metadata": {},
   "outputs": [
    {
     "ename": "FileNotFoundError",
     "evalue": "[WinError 3] The system cannot find the path specified: '../input'",
     "output_type": "error",
     "traceback": [
      "\u001b[1;31m---------------------------------------------------------------------------\u001b[0m",
      "\u001b[1;31mFileNotFoundError\u001b[0m                         Traceback (most recent call last)",
      "Input \u001b[1;32mIn [27]\u001b[0m, in \u001b[0;36m<cell line: 2>\u001b[1;34m()\u001b[0m\n\u001b[0;32m      1\u001b[0m \u001b[38;5;28;01mimport\u001b[39;00m \u001b[38;5;21;01mos\u001b[39;00m\n\u001b[1;32m----> 2\u001b[0m \u001b[38;5;28mprint\u001b[39m(\u001b[43mos\u001b[49m\u001b[38;5;241;43m.\u001b[39;49m\u001b[43mlistdir\u001b[49m\u001b[43m(\u001b[49m\u001b[38;5;124;43m\"\u001b[39;49m\u001b[38;5;124;43m../input\u001b[39;49m\u001b[38;5;124;43m\"\u001b[39;49m\u001b[43m)\u001b[49m)\n\u001b[0;32m      4\u001b[0m df \u001b[38;5;241m=\u001b[39m pd\u001b[38;5;241m.\u001b[39mread_csv(\u001b[38;5;124m\"\u001b[39m\u001b[38;5;124m../input/diabetes.csv\u001b[39m\u001b[38;5;124m\"\u001b[39m)\n\u001b[0;32m      5\u001b[0m df \u001b[38;5;241m=\u001b[39m df\u001b[38;5;241m.\u001b[39mdrop(\u001b[38;5;124m'\u001b[39m\u001b[38;5;124mSkinThickness\u001b[39m\u001b[38;5;124m'\u001b[39m, \u001b[38;5;124m'\u001b[39m\u001b[38;5;124mcolumns\u001b[39m\u001b[38;5;124m'\u001b[39m)\n",
      "\u001b[1;31mFileNotFoundError\u001b[0m: [WinError 3] The system cannot find the path specified: '../input'"
     ]
    }
   ],
   "source": [
    "import os\n",
    "print(os.listdir(\"../input\"))\n",
    "\n",
    "df = pd.read_csv(\"../input/diabetes.csv\")\n",
    "df = df.drop('SkinThickness', 'columns')\n",
    "df = df.dropna()\n",
    "\n",
    "df = df[(df[['Glucose','BloodPressure','Insulin', 'BMI','DiabetesPedigreeFunction','Age']] != 0).all(axis=1)]\n",
    "\n",
    "split_data = train_test_split(df, test_size=.30)\n",
    "\n",
    "train_data = split_data[0]\n",
    "test_data = split_data[1]\n",
    "\n",
    "outcome_train = train_data.Outcome.tolist()\n",
    "outcome_test = test_data.Outcome.tolist()\n",
    "\n",
    "train_data_remove = train_data.drop(columns = \"Outcome\")\n",
    "test_data_remove = test_data.drop(columns = \"Outcome\")\n",
    "\n",
    "\n",
    "clf = sklearn.tree.DecisionTreeClassifier(criterion = \"entropy\")\n",
    "clf.fit(train_data_remove, outcome_train)\n",
    "\n",
    "dot_data = tree.export_graphviz(clf, out_file=None)\n",
    "graph = graphviz.Source(dot_data)\n",
    "graph.render(\"Diabetes\")\n",
    "\n",
    "graph"
   ]
  },
  {
   "cell_type": "code",
   "execution_count": null,
   "metadata": {
    "_cell_guid": "79c7e3d0-c299-4dcb-8224-4455121ee9b0",
    "_uuid": "d629ff2d2480ee46fbb7e2d37f6b5fab8052498a",
    "scrolled": true
   },
   "outputs": [],
   "source": [
    "test_array = clf.predict(test_data_remove).tolist()\n",
    "ID3TestAccuracy = sklearn.metrics.accuracy_score(outcome_test, test_array)\n",
    "\n",
    "print('ID3 Testing accuracy: ',ID3TestAccuracy)\n",
    "\n"
   ]
  },
  {
   "cell_type": "code",
   "execution_count": 17,
   "metadata": {
    "_uuid": "9d3bd72bb6be40fa8ad2592b74146f2801c238d4"
   },
   "outputs": [
    {
     "ename": "NameError",
     "evalue": "name 'df' is not defined",
     "output_type": "error",
     "traceback": [
      "\u001b[1;31m---------------------------------------------------------------------------\u001b[0m",
      "\u001b[1;31mNameError\u001b[0m                                 Traceback (most recent call last)",
      "Input \u001b[1;32mIn [17]\u001b[0m, in \u001b[0;36m<cell line: 1>\u001b[1;34m()\u001b[0m\n\u001b[1;32m----> 1\u001b[0m correlation \u001b[38;5;241m=\u001b[39m \u001b[43mdf\u001b[49m\u001b[38;5;241m.\u001b[39mcorr()\n\u001b[0;32m      2\u001b[0m fig \u001b[38;5;241m=\u001b[39m plt\u001b[38;5;241m.\u001b[39mfigure()\n\u001b[0;32m      3\u001b[0m ax \u001b[38;5;241m=\u001b[39m fig\u001b[38;5;241m.\u001b[39madd_subplot(\u001b[38;5;241m111\u001b[39m)\n",
      "\u001b[1;31mNameError\u001b[0m: name 'df' is not defined"
     ]
    }
   ],
   "source": [
    "correlation = df.corr()\n",
    "fig = plt.figure()\n",
    "ax = fig.add_subplot(111)\n",
    "cax = ax.matshow(correlation, vmin=-1, vmax=1)\n",
    "fig.colorbar(cax)\n",
    "ticks = np.arange(0,9,1)\n",
    "ax.set_xticks(ticks)\n",
    "ax.set_yticks(ticks)\n",
    "plt.show()"
   ]
  },
  {
   "cell_type": "code",
   "execution_count": 18,
   "metadata": {
    "_uuid": "11e22eaf64a5bac5ab75a323020d9d924e6fa036",
    "scrolled": false
   },
   "outputs": [
    {
     "ename": "NameError",
     "evalue": "name 'clf' is not defined",
     "output_type": "error",
     "traceback": [
      "\u001b[1;31m---------------------------------------------------------------------------\u001b[0m",
      "\u001b[1;31mNameError\u001b[0m                                 Traceback (most recent call last)",
      "Input \u001b[1;32mIn [18]\u001b[0m, in \u001b[0;36m<cell line: 1>\u001b[1;34m()\u001b[0m\n\u001b[1;32m----> 1\u001b[0m train_array \u001b[38;5;241m=\u001b[39m \u001b[43mclf\u001b[49m\u001b[38;5;241m.\u001b[39mpredict(train_data_remove)\u001b[38;5;241m.\u001b[39mtolist()\n\u001b[0;32m      2\u001b[0m ID3TrainAccuracy \u001b[38;5;241m=\u001b[39m sklearn\u001b[38;5;241m.\u001b[39mmetrics\u001b[38;5;241m.\u001b[39maccuracy_score(outcome_train, train_array)\n\u001b[0;32m      4\u001b[0m \u001b[38;5;28mprint\u001b[39m(\u001b[38;5;124m'\u001b[39m\u001b[38;5;124mID3 Training accuracy: \u001b[39m\u001b[38;5;124m'\u001b[39m,ID3TrainAccuracy)\n",
      "\u001b[1;31mNameError\u001b[0m: name 'clf' is not defined"
     ]
    }
   ],
   "source": [
    "train_array = clf.predict(train_data_remove).tolist()\n",
    "ID3TrainAccuracy = sklearn.metrics.accuracy_score(outcome_train, train_array)\n",
    "\n",
    "print('ID3 Training accuracy: ',ID3TrainAccuracy)"
   ]
  },
  {
   "cell_type": "code",
   "execution_count": 19,
   "metadata": {
    "_uuid": "774cf7db8cf0f0c5a74a435cae1186a7705d33b4"
   },
   "outputs": [
    {
     "ename": "NameError",
     "evalue": "name 'train_data_remove' is not defined",
     "output_type": "error",
     "traceback": [
      "\u001b[1;31m---------------------------------------------------------------------------\u001b[0m",
      "\u001b[1;31mNameError\u001b[0m                                 Traceback (most recent call last)",
      "Input \u001b[1;32mIn [19]\u001b[0m, in \u001b[0;36m<cell line: 4>\u001b[1;34m()\u001b[0m\n\u001b[0;32m      1\u001b[0m \u001b[38;5;66;03m# C4.5\u001b[39;00m\n\u001b[0;32m      2\u001b[0m clf2 \u001b[38;5;241m=\u001b[39m sklearn\u001b[38;5;241m.\u001b[39mtree\u001b[38;5;241m.\u001b[39mDecisionTreeClassifier()\n\u001b[1;32m----> 4\u001b[0m clf2\u001b[38;5;241m.\u001b[39mfit(\u001b[43mtrain_data_remove\u001b[49m, outcome_train)\n\u001b[0;32m      6\u001b[0m dot_data \u001b[38;5;241m=\u001b[39m tree\u001b[38;5;241m.\u001b[39mexport_graphviz(clf2, out_file\u001b[38;5;241m=\u001b[39m\u001b[38;5;28;01mNone\u001b[39;00m)\n\u001b[0;32m      7\u001b[0m graph \u001b[38;5;241m=\u001b[39m graphviz\u001b[38;5;241m.\u001b[39mSource(dot_data)\n",
      "\u001b[1;31mNameError\u001b[0m: name 'train_data_remove' is not defined"
     ]
    }
   ],
   "source": [
    "# C4.5\n",
    "clf2 = sklearn.tree.DecisionTreeClassifier()\n",
    "\n",
    "clf2.fit(train_data_remove, outcome_train)\n",
    "\n",
    "dot_data = tree.export_graphviz(clf2, out_file=None)\n",
    "graph = graphviz.Source(dot_data)\n",
    "graph.render(\"Diabetes\")\n",
    "\n",
    "graph"
   ]
  },
  {
   "cell_type": "code",
   "execution_count": 20,
   "metadata": {
    "_uuid": "113114bcb16ca889eadcd9a19332b3dfdd04c971"
   },
   "outputs": [
    {
     "ename": "NameError",
     "evalue": "name 'test_data_remove' is not defined",
     "output_type": "error",
     "traceback": [
      "\u001b[1;31m---------------------------------------------------------------------------\u001b[0m",
      "\u001b[1;31mNameError\u001b[0m                                 Traceback (most recent call last)",
      "Input \u001b[1;32mIn [20]\u001b[0m, in \u001b[0;36m<cell line: 1>\u001b[1;34m()\u001b[0m\n\u001b[1;32m----> 1\u001b[0m test_array2 \u001b[38;5;241m=\u001b[39m clf2\u001b[38;5;241m.\u001b[39mpredict(\u001b[43mtest_data_remove\u001b[49m)\u001b[38;5;241m.\u001b[39mtolist()\n\u001b[0;32m      2\u001b[0m CTestAccuracy \u001b[38;5;241m=\u001b[39m sklearn\u001b[38;5;241m.\u001b[39mmetrics\u001b[38;5;241m.\u001b[39maccuracy_score(outcome_test, test_array2)\n\u001b[0;32m      4\u001b[0m \u001b[38;5;28mprint\u001b[39m(\u001b[38;5;124m'\u001b[39m\u001b[38;5;124mC4.5 Testing accuracy: \u001b[39m\u001b[38;5;124m'\u001b[39m,CTestAccuracy)\n",
      "\u001b[1;31mNameError\u001b[0m: name 'test_data_remove' is not defined"
     ]
    }
   ],
   "source": [
    "test_array2 = clf2.predict(test_data_remove).tolist()\n",
    "CTestAccuracy = sklearn.metrics.accuracy_score(outcome_test, test_array2)\n",
    "\n",
    "print('C4.5 Testing accuracy: ',CTestAccuracy)\n"
   ]
  },
  {
   "cell_type": "code",
   "execution_count": 21,
   "metadata": {
    "_uuid": "82c5ca7cda5a854e8b0f596e7ab0a76371adff5a"
   },
   "outputs": [
    {
     "ename": "NameError",
     "evalue": "name 'train_data_remove' is not defined",
     "output_type": "error",
     "traceback": [
      "\u001b[1;31m---------------------------------------------------------------------------\u001b[0m",
      "\u001b[1;31mNameError\u001b[0m                                 Traceback (most recent call last)",
      "Input \u001b[1;32mIn [21]\u001b[0m, in \u001b[0;36m<cell line: 1>\u001b[1;34m()\u001b[0m\n\u001b[1;32m----> 1\u001b[0m train_array2 \u001b[38;5;241m=\u001b[39m clf2\u001b[38;5;241m.\u001b[39mpredict(\u001b[43mtrain_data_remove\u001b[49m)\u001b[38;5;241m.\u001b[39mtolist()\n\u001b[0;32m      3\u001b[0m CTrainAccuracy \u001b[38;5;241m=\u001b[39m sklearn\u001b[38;5;241m.\u001b[39mmetrics\u001b[38;5;241m.\u001b[39maccuracy_score(outcome_train, train_array2)\n\u001b[0;32m      5\u001b[0m \u001b[38;5;28mprint\u001b[39m(\u001b[38;5;124m'\u001b[39m\u001b[38;5;124mC4.5 Training accuracy: \u001b[39m\u001b[38;5;124m'\u001b[39m, CTrainAccuracy)\n",
      "\u001b[1;31mNameError\u001b[0m: name 'train_data_remove' is not defined"
     ]
    }
   ],
   "source": [
    "train_array2 = clf2.predict(train_data_remove).tolist()\n",
    "\n",
    "CTrainAccuracy = sklearn.metrics.accuracy_score(outcome_train, train_array2)\n",
    "\n",
    "print('C4.5 Training accuracy: ', CTrainAccuracy)"
   ]
  },
  {
   "cell_type": "code",
   "execution_count": 22,
   "metadata": {
    "_uuid": "b10e51c291e6e584255ab9c936523414049f1a86"
   },
   "outputs": [
    {
     "ename": "NameError",
     "evalue": "name 'clf' is not defined",
     "output_type": "error",
     "traceback": [
      "\u001b[1;31m---------------------------------------------------------------------------\u001b[0m",
      "\u001b[1;31mNameError\u001b[0m                                 Traceback (most recent call last)",
      "Input \u001b[1;32mIn [22]\u001b[0m, in \u001b[0;36m<cell line: 1>\u001b[1;34m()\u001b[0m\n\u001b[1;32m----> 1\u001b[0m prediction_test \u001b[38;5;241m=\u001b[39m \u001b[43mclf\u001b[49m\u001b[38;5;241m.\u001b[39mpredict(test_data_remove)\u001b[38;5;241m.\u001b[39mtolist()\n\u001b[0;32m      2\u001b[0m \u001b[38;5;28mprint\u001b[39m(\u001b[38;5;124m\"\u001b[39m\u001b[38;5;124mTESTING DATA\u001b[39m\u001b[38;5;124m\"\u001b[39m)\n\u001b[0;32m      3\u001b[0m \u001b[38;5;28mprint\u001b[39m(\u001b[38;5;124m'\u001b[39m\u001b[38;5;124mConfusion Matrix with Testing Data with ID3 Algorithm:\u001b[39m\u001b[38;5;124m'\u001b[39m)\n",
      "\u001b[1;31mNameError\u001b[0m: name 'clf' is not defined"
     ]
    }
   ],
   "source": [
    "prediction_test = clf.predict(test_data_remove).tolist()\n",
    "print(\"TESTING DATA\")\n",
    "print('Confusion Matrix with Testing Data with ID3 Algorithm:')\n",
    "print(confusion_matrix(outcome_test, prediction_test))\n",
    "print()\n",
    "print('Classification Report ID3 Algorithm:')\n",
    "print(classification_report(outcome_test, prediction_test))\n",
    "print()\n",
    "print()\n",
    "print(\"TRAINING DATA\")\n",
    "prediction_train = clf.predict(train_data_remove).tolist()\n",
    "\n",
    "print('Confusion Matrix with Training Data with ID3 Algorithm:')\n",
    "print(confusion_matrix(outcome_train, prediction_train))\n",
    "print()\n",
    "print('Classification Report ID3 Algorithm:')\n",
    "print(classification_report(outcome_train, prediction_train))"
   ]
  },
  {
   "cell_type": "code",
   "execution_count": 23,
   "metadata": {
    "_uuid": "e917fee58e19b255f29e2eadc7ec8e83d24c276b"
   },
   "outputs": [
    {
     "ename": "NameError",
     "evalue": "name 'train_data_remove' is not defined",
     "output_type": "error",
     "traceback": [
      "\u001b[1;31m---------------------------------------------------------------------------\u001b[0m",
      "\u001b[1;31mNameError\u001b[0m                                 Traceback (most recent call last)",
      "Input \u001b[1;32mIn [23]\u001b[0m, in \u001b[0;36m<cell line: 1>\u001b[1;34m()\u001b[0m\n\u001b[1;32m----> 1\u001b[0m prediction_train2 \u001b[38;5;241m=\u001b[39m clf2\u001b[38;5;241m.\u001b[39mpredict(\u001b[43mtrain_data_remove\u001b[49m)\u001b[38;5;241m.\u001b[39mtolist()\n\u001b[0;32m      3\u001b[0m \u001b[38;5;28mprint\u001b[39m(\u001b[38;5;124m\"\u001b[39m\u001b[38;5;124mTESTING DATA\u001b[39m\u001b[38;5;124m\"\u001b[39m)\n\u001b[0;32m      4\u001b[0m \u001b[38;5;28mprint\u001b[39m(\u001b[38;5;124m'\u001b[39m\u001b[38;5;124mConfusion Matrix with Testing Data with C4.5 Algorithm: \u001b[39m\u001b[38;5;124m'\u001b[39m)\n",
      "\u001b[1;31mNameError\u001b[0m: name 'train_data_remove' is not defined"
     ]
    }
   ],
   "source": [
    "prediction_train2 = clf2.predict(train_data_remove).tolist()\n",
    "\n",
    "print(\"TESTING DATA\")\n",
    "print('Confusion Matrix with Testing Data with C4.5 Algorithm: ')\n",
    "print(confusion_matrix(outcome_train, prediction_train2))\n",
    "print()\n",
    "print('Classification Report C4.5 Algorithm:')\n",
    "print(classification_report(outcome_train, prediction_train2))\n",
    "print()\n",
    "print()\n",
    "print(\"TRAINING DATA\")\n",
    "print('Confusion Matrix with Training Data with C4.5 Algorithm:')\n",
    "print(confusion_matrix(outcome_train, prediction_train2))\n",
    "print()\n",
    "print('Classification Report C4.5 Algorithm:')\n",
    "print(classification_report(outcome_train, prediction_train2))\n"
   ]
  },
  {
   "cell_type": "code",
   "execution_count": null,
   "metadata": {},
   "outputs": [],
   "source": []
  },
  {
   "cell_type": "code",
   "execution_count": null,
   "metadata": {},
   "outputs": [],
   "source": []
  },
  {
   "cell_type": "code",
   "execution_count": null,
   "metadata": {},
   "outputs": [],
   "source": []
  }
 ],
 "metadata": {
  "kernelspec": {
   "display_name": "Python 3 (ipykernel)",
   "language": "python",
   "name": "python3"
  },
  "language_info": {
   "codemirror_mode": {
    "name": "ipython",
    "version": 3
   },
   "file_extension": ".py",
   "mimetype": "text/x-python",
   "name": "python",
   "nbconvert_exporter": "python",
   "pygments_lexer": "ipython3",
   "version": "3.9.12"
  }
 },
 "nbformat": 4,
 "nbformat_minor": 1
}
